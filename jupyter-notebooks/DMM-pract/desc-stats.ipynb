{
 "cells": [
  {
   "cell_type": "code",
   "execution_count": 26,
   "metadata": {},
   "outputs": [],
   "source": [
    "import pandas as pd\n",
    "import numpy as np\n",
    "import matplotlib.pyplot as plt\n",
    "import random"
   ]
  },
  {
   "cell_type": "code",
   "execution_count": 2,
   "metadata": {},
   "outputs": [],
   "source": [
    "num_rows = 100"
   ]
  },
  {
   "cell_type": "code",
   "execution_count": 5,
   "metadata": {},
   "outputs": [],
   "source": [
    "data = {\n",
    "    'col1': np.random.rand(num_rows),\n",
    "    'col2': np.random.randint(1,100, size=num_rows),\n",
    "    'col3': np.random.randint(2, size=num_rows)\n",
    "}"
   ]
  },
  {
   "cell_type": "code",
   "execution_count": 6,
   "metadata": {},
   "outputs": [],
   "source": [
    "df = pd.DataFrame(data)"
   ]
  },
  {
   "cell_type": "code",
   "execution_count": 7,
   "metadata": {},
   "outputs": [
    {
     "data": {
      "text/html": [
       "<div>\n",
       "<style scoped>\n",
       "    .dataframe tbody tr th:only-of-type {\n",
       "        vertical-align: middle;\n",
       "    }\n",
       "\n",
       "    .dataframe tbody tr th {\n",
       "        vertical-align: top;\n",
       "    }\n",
       "\n",
       "    .dataframe thead th {\n",
       "        text-align: right;\n",
       "    }\n",
       "</style>\n",
       "<table border=\"1\" class=\"dataframe\">\n",
       "  <thead>\n",
       "    <tr style=\"text-align: right;\">\n",
       "      <th></th>\n",
       "      <th>col1</th>\n",
       "      <th>col2</th>\n",
       "      <th>col3</th>\n",
       "    </tr>\n",
       "  </thead>\n",
       "  <tbody>\n",
       "    <tr>\n",
       "      <th>0</th>\n",
       "      <td>0.950530</td>\n",
       "      <td>69</td>\n",
       "      <td>1</td>\n",
       "    </tr>\n",
       "    <tr>\n",
       "      <th>1</th>\n",
       "      <td>0.038761</td>\n",
       "      <td>22</td>\n",
       "      <td>0</td>\n",
       "    </tr>\n",
       "    <tr>\n",
       "      <th>2</th>\n",
       "      <td>0.848531</td>\n",
       "      <td>85</td>\n",
       "      <td>0</td>\n",
       "    </tr>\n",
       "    <tr>\n",
       "      <th>3</th>\n",
       "      <td>0.701664</td>\n",
       "      <td>68</td>\n",
       "      <td>0</td>\n",
       "    </tr>\n",
       "    <tr>\n",
       "      <th>4</th>\n",
       "      <td>0.996858</td>\n",
       "      <td>45</td>\n",
       "      <td>1</td>\n",
       "    </tr>\n",
       "  </tbody>\n",
       "</table>\n",
       "</div>"
      ],
      "text/plain": [
       "       col1  col2  col3\n",
       "0  0.950530    69     1\n",
       "1  0.038761    22     0\n",
       "2  0.848531    85     0\n",
       "3  0.701664    68     0\n",
       "4  0.996858    45     1"
      ]
     },
     "execution_count": 7,
     "metadata": {},
     "output_type": "execute_result"
    }
   ],
   "source": [
    "df.head()"
   ]
  },
  {
   "cell_type": "code",
   "execution_count": 19,
   "metadata": {},
   "outputs": [
    {
     "name": "stdout",
     "output_type": "stream",
     "text": [
      "(col1     0.522366\n",
      "col2    51.310000\n",
      "col3     0.530000\n",
      "dtype: float64, col1     0.487506\n",
      "col2    53.500000\n",
      "col3     1.000000\n",
      "dtype: float64,         col1  col2  col3\n",
      "0   0.004933  37.0   1.0\n",
      "1   0.005267   NaN   NaN\n",
      "2   0.036337   NaN   NaN\n",
      "3   0.038151   NaN   NaN\n",
      "4   0.038761   NaN   NaN\n",
      "..       ...   ...   ...\n",
      "95  0.952523   NaN   NaN\n",
      "96  0.964319   NaN   NaN\n",
      "97  0.973248   NaN   NaN\n",
      "98  0.996858   NaN   NaN\n",
      "99  0.997727   NaN   NaN\n",
      "\n",
      "[100 rows x 3 columns])\n"
     ]
    }
   ],
   "source": [
    "print(f\"{df.mean(), df.median(), df.mode() }\")"
   ]
  },
  {
   "cell_type": "code",
   "execution_count": 20,
   "metadata": {},
   "outputs": [
    {
     "name": "stdout",
     "output_type": "stream",
     "text": [
      "Range:, col1     0.992794\n",
      "col2    96.000000\n",
      "col3     1.000000\n",
      "dtype: float64\n"
     ]
    }
   ],
   "source": [
    "print(f\"Range:, {df.max() - df.min()}\")"
   ]
  },
  {
   "cell_type": "code",
   "execution_count": 22,
   "metadata": {},
   "outputs": [
    {
     "name": "stdout",
     "output_type": "stream",
     "text": [
      "Standard deviation: col1     0.298168\n",
      "col2    26.523363\n",
      "col3     0.501614\n",
      "dtype: float64\n"
     ]
    }
   ],
   "source": [
    "print(f\"Standard deviation: {df.std()}\")"
   ]
  },
  {
   "cell_type": "code",
   "execution_count": 24,
   "metadata": {},
   "outputs": [
    {
     "name": "stdout",
     "output_type": "stream",
     "text": [
      "Quartile           col1   col2  col3\n",
      "0.00  0.004933   2.00   0.0\n",
      "0.25  0.300365  30.25   0.0\n",
      "0.50  0.487506  53.50   1.0\n",
      "0.75  0.795307  74.25   1.0\n",
      "1.00  0.997727  98.00   1.0\n"
     ]
    }
   ],
   "source": [
    "print(f\"Quartile\", df.quantile([0,0.25, 0.5, 0.75,1]))"
   ]
  },
  {
   "cell_type": "code",
   "execution_count": 31,
   "metadata": {},
   "outputs": [
    {
     "data": {
      "text/plain": [
       "[]"
      ]
     },
     "execution_count": 31,
     "metadata": {},
     "output_type": "execute_result"
    },
    {
     "data": {
      "image/png": "[encoded data removed]",
      "text/plain": [
       "<Figure size 640x480 with 1 Axes>"
      ]
     },
     "metadata": {},
     "output_type": "display_data"
    }
   ],
   "source": [
    "plt.boxplot(df)\n",
    "plt.plot()"
   ]
  },
  {
   "cell_type": "code",
   "execution_count": 32,
   "metadata": {},
   "outputs": [
    {
     "name": "stdout",
     "output_type": "stream",
     "text": [
      "Skewness:  col1   -0.102467\n",
      "col2   -0.066505\n",
      "col3   -0.122055\n",
      "dtype: float64\n"
     ]
    }
   ],
   "source": [
    "print(f\"Skewness: \", df.skew())"
   ]
  },
  {
   "cell_type": "code",
   "execution_count": 33,
   "metadata": {},
   "outputs": [
    {
     "name": "stdout",
     "output_type": "stream",
     "text": [
      "Kurtosis: col1   -1.207558\n",
      "col2   -1.177744\n",
      "col3   -2.026036\n",
      "dtype: float64\n"
     ]
    }
   ],
   "source": [
    "print(f\"Kurtosis: {df.kurt()}\")"
   ]
  }
 ],
 "metadata": {
  "kernelspec": {
   "display_name": "DMM-pract-dsbo",
   "language": "python",
   "name": "python3"
  },
  "language_info": {
   "codemirror_mode": {
    "name": "ipython",
    "version": 3
   },
   "file_extension": ".py",
   "mimetype": "text/x-python",
   "name": "python",
   "nbconvert_exporter": "python",
   "pygments_lexer": "ipython3",
   "version": "3.12.3"
  }
 },
 "nbformat": 4,
 "nbformat_minor": 2
}
