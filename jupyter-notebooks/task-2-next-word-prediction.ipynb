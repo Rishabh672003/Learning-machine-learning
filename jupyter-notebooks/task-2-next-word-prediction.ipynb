{
  "nbformat": 4,
  "nbformat_minor": 0,
  "metadata": {
    "colab": {
      "provenance": []
    },
    "kernelspec": {
      "name": "python3",
      "display_name": "Python 3"
    },
    "language_info": {
      "name": "python"
    }
  },
  "cells": [
    {
      "cell_type": "markdown",
      "source": [
        "**IMPORTING REQUIRED LIBRARIES**"
      ],
      "metadata": {
        "id": "m3ZVSPkmlR9t"
      }
    },
    {
      "cell_type": "code",
      "execution_count": 3,
      "metadata": {
        "id": "n-YHLmNtgTgy"
      },
      "outputs": [],
      "source": [
        "import tensorflow as tf\n",
        "from tensorflow.keras.preprocessing.text import Tokenizer\n",
        "from tensorflow.keras.layers import Embedding, LSTM, Dense\n",
        "from tensorflow.keras.models import Sequential\n",
        "from tensorflow.keras.utils import to_categorical\n",
        "from tensorflow.keras.optimizers import Adam\n",
        "import pickle\n",
        "import os\n",
        "import numpy as np"
      ]
    },
    {
      "cell_type": "markdown",
      "source": [
        "**UPLOADING TEXT FILE**"
      ],
      "metadata": {
        "id": "t5aSHXeylbnn"
      }
    },
    {
      "cell_type": "code",
      "source": [
        "from google.colab import files\n",
        "uploaded = files.upload()"
      ],
      "metadata": {
        "colab": {
          "base_uri": "https://localhost:8080/",
          "height": 73
        },
        "id": "8JPJyWbagaZd",
        "outputId": "67ecbdba-10dd-4c80-abb1-685d8cda81f1"
      },
      "execution_count": 4,
      "outputs": [
        {
          "output_type": "display_data",
          "data": {
            "text/plain": [
              "<IPython.core.display.HTML object>"
            ],
            "text/html": [
              "\n",
              "     <input type=\"file\" id=\"files-08585a66-2170-49ea-b2a4-44d67133b8c8\" name=\"files[]\" multiple disabled\n",
              "        style=\"border:none\" />\n",
              "     <output id=\"result-08585a66-2170-49ea-b2a4-44d67133b8c8\">\n",
              "      Upload widget is only available when the cell has been executed in the\n",
              "      current browser session. Please rerun this cell to enable.\n",
              "      </output>\n",
              "      <script>// Copyright 2017 Google LLC\n",
              "//\n",
              "// Licensed under the Apache License, Version 2.0 (the \"License\");\n",
              "// you may not use this file except in compliance with the License.\n",
              "// You may obtain a copy of the License at\n",
              "//\n",
              "//      http://www.apache.org/licenses/LICENSE-2.0\n",
              "//\n",
              "// Unless required by applicable law or agreed to in writing, software\n",
              "// distributed under the License is distributed on an \"AS IS\" BASIS,\n",
              "// WITHOUT WARRANTIES OR CONDITIONS OF ANY KIND, either express or implied.\n",
              "// See the License for the specific language governing permissions and\n",
              "// limitations under the License.\n",
              "\n",
              "/**\n",
              " * @fileoverview Helpers for google.colab Python module.\n",
              " */\n",
              "(function(scope) {\n",
              "function span(text, styleAttributes = {}) {\n",
              "  const element = document.createElement('span');\n",
              "  element.textContent = text;\n",
              "  for (const key of Object.keys(styleAttributes)) {\n",
              "    element.style[key] = styleAttributes[key];\n",
              "  }\n",
              "  return element;\n",
              "}\n",
              "\n",
              "// Max number of bytes which will be uploaded at a time.\n",
              "const MAX_PAYLOAD_SIZE = 100 * 1024;\n",
              "\n",
              "function _uploadFiles(inputId, outputId) {\n",
              "  const steps = uploadFilesStep(inputId, outputId);\n",
              "  const outputElement = document.getElementById(outputId);\n",
              "  // Cache steps on the outputElement to make it available for the next call\n",
              "  // to uploadFilesContinue from Python.\n",
              "  outputElement.steps = steps;\n",
              "\n",
              "  return _uploadFilesContinue(outputId);\n",
              "}\n",
              "\n",
              "// This is roughly an async generator (not supported in the browser yet),\n",
              "// where there are multiple asynchronous steps and the Python side is going\n",
              "// to poll for completion of each step.\n",
              "// This uses a Promise to block the python side on completion of each step,\n",
              "// then passes the result of the previous step as the input to the next step.\n",
              "function _uploadFilesContinue(outputId) {\n",
              "  const outputElement = document.getElementById(outputId);\n",
              "  const steps = outputElement.steps;\n",
              "\n",
              "  const next = steps.next(outputElement.lastPromiseValue);\n",
              "  return Promise.resolve(next.value.promise).then((value) => {\n",
              "    // Cache the last promise value to make it available to the next\n",
              "    // step of the generator.\n",
              "    outputElement.lastPromiseValue = value;\n",
              "    return next.value.response;\n",
              "  });\n",
              "}\n",
              "\n",
              "/**\n",
              " * Generator function which is called between each async step of the upload\n",
              " * process.\n",
              " * @param {string} inputId Element ID of the input file picker element.\n",
              " * @param {string} outputId Element ID of the output display.\n",
              " * @return {!Iterable<!Object>} Iterable of next steps.\n",
              " */\n",
              "function* uploadFilesStep(inputId, outputId) {\n",
              "  const inputElement = document.getElementById(inputId);\n",
              "  inputElement.disabled = false;\n",
              "\n",
              "  const outputElement = document.getElementById(outputId);\n",
              "  outputElement.innerHTML = '';\n",
              "\n",
              "  const pickedPromise = new Promise((resolve) => {\n",
              "    inputElement.addEventListener('change', (e) => {\n",
              "      resolve(e.target.files);\n",
              "    });\n",
              "  });\n",
              "\n",
              "  const cancel = document.createElement('button');\n",
              "  inputElement.parentElement.appendChild(cancel);\n",
              "  cancel.textContent = 'Cancel upload';\n",
              "  const cancelPromise = new Promise((resolve) => {\n",
              "    cancel.onclick = () => {\n",
              "      resolve(null);\n",
              "    };\n",
              "  });\n",
              "\n",
              "  // Wait for the user to pick the files.\n",
              "  const files = yield {\n",
              "    promise: Promise.race([pickedPromise, cancelPromise]),\n",
              "    response: {\n",
              "      action: 'starting',\n",
              "    }\n",
              "  };\n",
              "\n",
              "  cancel.remove();\n",
              "\n",
              "  // Disable the input element since further picks are not allowed.\n",
              "  inputElement.disabled = true;\n",
              "\n",
              "  if (!files) {\n",
              "    return {\n",
              "      response: {\n",
              "        action: 'complete',\n",
              "      }\n",
              "    };\n",
              "  }\n",
              "\n",
              "  for (const file of files) {\n",
              "    const li = document.createElement('li');\n",
              "    li.append(span(file.name, {fontWeight: 'bold'}));\n",
              "    li.append(span(\n",
              "        `(${file.type || 'n/a'}) - ${file.size} bytes, ` +\n",
              "        `last modified: ${\n",
              "            file.lastModifiedDate ? file.lastModifiedDate.toLocaleDateString() :\n",
              "                                    'n/a'} - `));\n",
              "    const percent = span('0% done');\n",
              "    li.appendChild(percent);\n",
              "\n",
              "    outputElement.appendChild(li);\n",
              "\n",
              "    const fileDataPromise = new Promise((resolve) => {\n",
              "      const reader = new FileReader();\n",
              "      reader.onload = (e) => {\n",
              "        resolve(e.target.result);\n",
              "      };\n",
              "      reader.readAsArrayBuffer(file);\n",
              "    });\n",
              "    // Wait for the data to be ready.\n",
              "    let fileData = yield {\n",
              "      promise: fileDataPromise,\n",
              "      response: {\n",
              "        action: 'continue',\n",
              "      }\n",
              "    };\n",
              "\n",
              "    // Use a chunked sending to avoid message size limits. See b/62115660.\n",
              "    let position = 0;\n",
              "    do {\n",
              "      const length = Math.min(fileData.byteLength - position, MAX_PAYLOAD_SIZE);\n",
              "      const chunk = new Uint8Array(fileData, position, length);\n",
              "      position += length;\n",
              "\n",
              "      const base64 = btoa(String.fromCharCode.apply(null, chunk));\n",
              "      yield {\n",
              "        response: {\n",
              "          action: 'append',\n",
              "          file: file.name,\n",
              "          data: base64,\n",
              "        },\n",
              "      };\n",
              "\n",
              "      let percentDone = fileData.byteLength === 0 ?\n",
              "          100 :\n",
              "          Math.round((position / fileData.byteLength) * 100);\n",
              "      percent.textContent = `${percentDone}% done`;\n",
              "\n",
              "    } while (position < fileData.byteLength);\n",
              "  }\n",
              "\n",
              "  // All done.\n",
              "  yield {\n",
              "    response: {\n",
              "      action: 'complete',\n",
              "    }\n",
              "  };\n",
              "}\n",
              "\n",
              "scope.google = scope.google || {};\n",
              "scope.google.colab = scope.google.colab || {};\n",
              "scope.google.colab._files = {\n",
              "  _uploadFiles,\n",
              "  _uploadFilesContinue,\n",
              "};\n",
              "})(self);\n",
              "</script> "
            ]
          },
          "metadata": {}
        },
        {
          "output_type": "stream",
          "name": "stdout",
          "text": [
            "Saving Romeo and Juliet.txt to Romeo and Juliet.txt\n"
          ]
        }
      ]
    },
    {
      "cell_type": "markdown",
      "source": [
        "**STORING THE FILE CONTENTS INTO A LIST**\n",
        "**AND PREPROCESSING**\n",
        "\n"
      ],
      "metadata": {
        "id": "tEuMkhKWliu6"
      }
    },
    {
      "cell_type": "code",
      "source": [
        "file = open(\"Romeo and Juliet.txt\",\"r\",encoding=\"utf8\")\n",
        "\n",
        "lines=[]\n",
        "for i in file:\n",
        "  lines.append(i)\n",
        "\n",
        "#converting list to string\n",
        "data = ''\n",
        "for i in lines:\n",
        "  data = ' '.join(lines)\n",
        "\n",
        "#replacing unnecessary characters with space\n",
        "data = data.replace('\\n','').replace(\"\\r\",'').replace('\\ufeff','').replace('\"','').replace('*','').replace(',','')\n",
        "\n",
        "#removing unnecessary spaces\n",
        "data = data.split()\n",
        "data = ' '.join(data)\n",
        "print(data[:500])\n",
        "data[:500]\n",
        "print('Length: ',len(data))"
      ],
      "metadata": {
        "colab": {
          "base_uri": "https://localhost:8080/"
        },
        "id": "RT-5nmqClGqC",
        "outputId": "ea0eeb16-83e2-47a7-e651-89b7f0c1d8c4"
      },
      "execution_count": 5,
      "outputs": [
        {
          "output_type": "stream",
          "name": "stdout",
          "text": [
            "The Project Gutenberg eBook of Romeo and Juliet This ebook is for the use of anyone anywhere in the United States and most other parts of the world at no cost and with almost no restrictions whatsoever. You may copy it give it away or re-use it under the terms of the Project Gutenberg License included with this ebook or online at www.gutenberg.org. If you are not located in the United States you will have to check the laws of the country where you are located before using this eBook. Title: Rome\n",
            "Length:  157137\n"
          ]
        }
      ]
    },
    {
      "cell_type": "markdown",
      "source": [
        "**CREATING TOKENIZER OBJECT AND FITTING TO \"data\" VARIABLE.**\n",
        "\n",
        "**1.   The tokenizer object will learn the vocabulary of the data, i.e., the set of all unique words in the data.**\n",
        "\n",
        "**2.   The tokenizer object is saved to a file called \"token.pkl\" using the Pickle library. This will allow you to load the tokenizer object later and use it to make predictions on new data.**\n",
        "\n",
        "**3.     Converting each word in the data variable into a integer(mapping of words to integers).**\n",
        "\n"
      ],
      "metadata": {
        "id": "bcvWVw57ntUH"
      }
    },
    {
      "cell_type": "code",
      "source": [
        "tokenizer = Tokenizer()\n",
        "tokenizer.fit_on_texts([data])\n",
        "\n",
        "#saving the tokenizer for predict function\n",
        "pickle.dump(tokenizer,open('token.pkl','wb'))\n",
        "\n",
        "sequence_data = tokenizer.texts_to_sequences([data])[0]\n",
        "sequence_data[:15]\n",
        "print(\"Length: \",len(sequence_data))"
      ],
      "metadata": {
        "colab": {
          "base_uri": "https://localhost:8080/"
        },
        "id": "ooTC9j4hnthk",
        "outputId": "0678debb-ea10-42a6-dca4-576093097c4f"
      },
      "execution_count": 6,
      "outputs": [
        {
          "output_type": "stream",
          "name": "stdout",
          "text": [
            "Length:  29251\n"
          ]
        }
      ]
    },
    {
      "cell_type": "markdown",
      "source": [
        "***Calculating the size of the vocabulary that the tokenizer object has learned. ***"
      ],
      "metadata": {
        "id": "VZOglOSOc47E"
      }
    },
    {
      "cell_type": "code",
      "source": [
        "vocab_size = len(tokenizer.word_index)+1\n",
        "print(vocab_size)"
      ],
      "metadata": {
        "colab": {
          "base_uri": "https://localhost:8080/"
        },
        "id": "ciqeuy92qRQP",
        "outputId": "2ebfb839-dee6-4fe3-d4b1-19889cd289c3"
      },
      "execution_count": 7,
      "outputs": [
        {
          "output_type": "stream",
          "name": "stdout",
          "text": [
            "4307\n"
          ]
        }
      ]
    },
    {
      "cell_type": "markdown",
      "source": [
        "**The code snippet creates a list of sequences of words from the sequence_data variable. Each sequence of words is 4 words long. The first three words acts input for predicting the fourth word.**"
      ],
      "metadata": {
        "id": "8xW_XTUMfoCf"
      }
    },
    {
      "cell_type": "code",
      "source": [
        "sequences = []\n",
        "for i in range(3,len(sequence_data)):\n",
        "  words = sequence_data[i-3:i+1]\n",
        "  sequences.append(words)\n",
        "\n",
        "print(\"Length of sequences: \",len(sequences))\n",
        "sequences = np.array(sequences)\n",
        "sequences[:10]"
      ],
      "metadata": {
        "colab": {
          "base_uri": "https://localhost:8080/"
        },
        "id": "Yplnr4f1o9y8",
        "outputId": "2923fa94-0082-4fbe-8dae-cdc13962e66f"
      },
      "execution_count": 8,
      "outputs": [
        {
          "output_type": "stream",
          "name": "stdout",
          "text": [
            "Length of sequences:  29248\n"
          ]
        },
        {
          "output_type": "execute_result",
          "data": {
            "text/plain": [
              "array([[  1,  54, 129, 302],\n",
              "       [ 54, 129, 302,   6],\n",
              "       [129, 302,   6,  12],\n",
              "       [302,   6,  12,   2],\n",
              "       [  6,  12,   2,  22],\n",
              "       [ 12,   2,  22,  16],\n",
              "       [  2,  22,  16, 302],\n",
              "       [ 22,  16, 302,   8],\n",
              "       [ 16, 302,   8,  18],\n",
              "       [302,   8,  18,   1]])"
            ]
          },
          "metadata": {},
          "execution_count": 8
        }
      ]
    },
    {
      "cell_type": "markdown",
      "source": [
        "**The x NumPy array contains the first three words in each sequence in the sequences NumPy array. The y NumPy array contains the fourth word in each sequence in the sequences NumPy array.**"
      ],
      "metadata": {
        "id": "QP8Bk9pFgLFL"
      }
    },
    {
      "cell_type": "code",
      "source": [
        "x=[]\n",
        "y=[]\n",
        "for i in sequences:\n",
        "  x.append(i[0:3])\n",
        "  y.append(i[3])\n",
        "\n",
        "#x data acts as input which is used for prediction.\n",
        "x = np.array(x)\n",
        "#y is response data which is predicted based on x\n",
        "y = np.array(y)"
      ],
      "metadata": {
        "id": "93Y8a9voph_G"
      },
      "execution_count": 26,
      "outputs": []
    },
    {
      "cell_type": "code",
      "source": [
        "print(\"Data: \\n\",x[:10])\n",
        "print(\"Response: \\n\",y[:10])"
      ],
      "metadata": {
        "colab": {
          "base_uri": "https://localhost:8080/"
        },
        "id": "0WhUqcuspy_3",
        "outputId": "d5b0277f-c883-4acb-a6c0-44bc62276b3d"
      },
      "execution_count": 27,
      "outputs": [
        {
          "output_type": "stream",
          "name": "stdout",
          "text": [
            "Data: \n",
            " [[  1  54 129]\n",
            " [ 54 129 302]\n",
            " [129 302   6]\n",
            " [302   6  12]\n",
            " [  6  12   2]\n",
            " [ 12   2  22]\n",
            " [  2  22  16]\n",
            " [ 22  16 302]\n",
            " [ 16 302   8]\n",
            " [302   8  18]]\n",
            "Response: \n",
            " [302   6  12   2  22  16 302   8  18   1]\n"
          ]
        }
      ]
    },
    {
      "cell_type": "markdown",
      "source": [
        "**The to_categorical() function from the Keras library converts a vector of integers into a binary class matrix.**\n",
        "\n",
        "\n",
        "*   **The model requires requires the input data to be in a one-hot encoded format, where each row in the matrix represents a single example and each column in the matrix represents a different class.**\n",
        "\n"
      ],
      "metadata": {
        "id": "DFhBueS9glQC"
      }
    },
    {
      "cell_type": "code",
      "source": [
        "y = to_categorical(y, num_classes=vocab_size)\n",
        "y[:5]"
      ],
      "metadata": {
        "colab": {
          "base_uri": "https://localhost:8080/"
        },
        "id": "zO-1BblpqDK4",
        "outputId": "cc47d837-3e5a-484c-baf7-978904627a5e"
      },
      "execution_count": 11,
      "outputs": [
        {
          "output_type": "execute_result",
          "data": {
            "text/plain": [
              "array([[0., 0., 0., ..., 0., 0., 0.],\n",
              "       [0., 0., 0., ..., 0., 0., 0.],\n",
              "       [0., 0., 0., ..., 0., 0., 0.],\n",
              "       [0., 0., 1., ..., 0., 0., 0.],\n",
              "       [0., 0., 0., ..., 0., 0., 0.]], dtype=float32)"
            ]
          },
          "metadata": {},
          "execution_count": 11
        }
      ]
    },
    {
      "cell_type": "markdown",
      "source": [
        "\n",
        "\n",
        "1.   **Creating Object for Sequential Neural Network.**\n",
        "2.   **Adding Embedded layer to the Model, by specifying the vocab_size, input length which is 3, as I mentioned above snippets.**\n",
        "3.     **Adding LSTM-Long Short Term Memory Layer which returns sequence of outputs instead of returning only final output.**\n",
        "4.       **Adding a dense layer to the model. The dense layer has vocab_size units and uses the softmax activation function. The softmax activation function ensures that the output of the model is a probability distribution over all possible next words.**\n"
      ],
      "metadata": {
        "id": "ZgXGFL0kiVEO"
      }
    },
    {
      "cell_type": "code",
      "source": [
        "model = Sequential()\n",
        "model.add(Embedding(vocab_size,10,input_length=3))\n",
        "model.add(LSTM(1000,return_sequences=True))\n",
        "model.add(LSTM(1000))\n",
        "model.add(Dense(1000,activation=\"relu\"))\n",
        "model.add(Dense(vocab_size,activation=\"softmax\"))"
      ],
      "metadata": {
        "id": "do71DpZfqrDU"
      },
      "execution_count": 12,
      "outputs": []
    },
    {
      "cell_type": "code",
      "source": [
        "print(model.summary())"
      ],
      "metadata": {
        "colab": {
          "base_uri": "https://localhost:8080/"
        },
        "id": "k2A84RGAsXJt",
        "outputId": "d9597a76-b16f-4fce-cac9-31eba4765b21"
      },
      "execution_count": 13,
      "outputs": [
        {
          "output_type": "stream",
          "name": "stdout",
          "text": [
            "Model: \"sequential\"\n",
            "_________________________________________________________________\n",
            " Layer (type)                Output Shape              Param #   \n",
            "=================================================================\n",
            " embedding (Embedding)       (None, 3, 10)             43070     \n",
            "                                                                 \n",
            " lstm (LSTM)                 (None, 3, 1000)           4044000   \n",
            "                                                                 \n",
            " lstm_1 (LSTM)               (None, 1000)              8004000   \n",
            "                                                                 \n",
            " dense (Dense)               (None, 1000)              1001000   \n",
            "                                                                 \n",
            " dense_1 (Dense)             (None, 4307)              4311307   \n",
            "                                                                 \n",
            "=================================================================\n",
            "Total params: 17403377 (66.39 MB)\n",
            "Trainable params: 17403377 (66.39 MB)\n",
            "Non-trainable params: 0 (0.00 Byte)\n",
            "_________________________________________________________________\n",
            "None\n"
          ]
        }
      ]
    },
    {
      "cell_type": "markdown",
      "source": [
        "1.    **Creating a new ModelCheckpoint callback object. The filepath argument specifies the path to the file where the best model will be saved.**\n",
        "2.    **The save_best_only argument specifies whether to only save the best model.**\n",
        "3.    **Training the model on the x and y data for 30 epochs with a batch size of 64. The callbacks argument specifies the ModelCheckpoint callback.**\n",
        "4.    **The ModelCheckpoint callback will save the best model to the next_words.h5 file during training.**\n",
        "\n",
        "**The best model is the model with the lowest loss on the validation set.**\n",
        "\n",
        "**RUNNING 30-EPOCHS...**"
      ],
      "metadata": {
        "id": "Ye02H3MTkitL"
      }
    },
    {
      "cell_type": "code",
      "source": [
        "from tensorflow.keras.callbacks import ModelCheckpoint\n",
        "\n",
        "checkpoint = ModelCheckpoint(\"next_words.h5\",monitor=\"loss\",verbose=1,save_best_only=True)\n",
        "model.compile(loss=\"categorical_crossentropy\",optimizer=Adam(learning_rate=0.001))\n",
        "model.fit(x,y,epochs=30,batch_size=64,callbacks=[checkpoint])"
      ],
      "metadata": {
        "colab": {
          "base_uri": "https://localhost:8080/"
        },
        "id": "pLF9Xg7DtTb_",
        "outputId": "abedb86e-a9e9-41f3-c932-1bd1df3ec3cf"
      },
      "execution_count": 15,
      "outputs": [
        {
          "output_type": "stream",
          "name": "stdout",
          "text": [
            "Epoch 1/30\n",
            "457/457 [==============================] - ETA: 0s - loss: 6.6900\n",
            "Epoch 1: loss improved from inf to 6.69002, saving model to next_words.h5\n"
          ]
        },
        {
          "output_type": "stream",
          "name": "stderr",
          "text": [
            "/usr/local/lib/python3.10/dist-packages/keras/src/engine/training.py:3000: UserWarning: You are saving your model as an HDF5 file via `model.save()`. This file format is considered legacy. We recommend using instead the native Keras format, e.g. `model.save('my_model.keras')`.\n",
            "  saving_api.save_model(\n"
          ]
        },
        {
          "output_type": "stream",
          "name": "stdout",
          "text": [
            "\b\b\b\b\b\b\b\b\b\b\b\b\b\b\b\b\b\b\b\b\b\b\b\b\b\b\b\b\b\b\b\b\b\b\b\b\b\b\b\b\b\b\b\b\b\b\b\b\b\b\b\b\b\b\b\b\b\b\b\b\b\b\b\b\b\r457/457 [==============================] - 144s 310ms/step - loss: 6.6900\n",
            "Epoch 2/30\n",
            "457/457 [==============================] - ETA: 0s - loss: 6.3813\n",
            "Epoch 2: loss improved from 6.69002 to 6.38133, saving model to next_words.h5\n",
            "457/457 [==============================] - 146s 320ms/step - loss: 6.3813\n",
            "Epoch 3/30\n",
            "457/457 [==============================] - ETA: 0s - loss: 6.1146\n",
            "Epoch 3: loss improved from 6.38133 to 6.11457, saving model to next_words.h5\n",
            "457/457 [==============================] - 146s 320ms/step - loss: 6.1146\n",
            "Epoch 4/30\n",
            "457/457 [==============================] - ETA: 0s - loss: 5.8501\n",
            "Epoch 4: loss improved from 6.11457 to 5.85011, saving model to next_words.h5\n",
            "457/457 [==============================] - 142s 311ms/step - loss: 5.8501\n",
            "Epoch 5/30\n",
            "457/457 [==============================] - ETA: 0s - loss: 5.6098\n",
            "Epoch 5: loss improved from 5.85011 to 5.60982, saving model to next_words.h5\n",
            "457/457 [==============================] - 146s 320ms/step - loss: 5.6098\n",
            "Epoch 6/30\n",
            "457/457 [==============================] - ETA: 0s - loss: 5.3853\n",
            "Epoch 6: loss improved from 5.60982 to 5.38533, saving model to next_words.h5\n",
            "457/457 [==============================] - 142s 311ms/step - loss: 5.3853\n",
            "Epoch 7/30\n",
            "457/457 [==============================] - ETA: 0s - loss: 5.1747\n",
            "Epoch 7: loss improved from 5.38533 to 5.17472, saving model to next_words.h5\n",
            "457/457 [==============================] - 146s 320ms/step - loss: 5.1747\n",
            "Epoch 8/30\n",
            "457/457 [==============================] - ETA: 0s - loss: 4.9641\n",
            "Epoch 8: loss improved from 5.17472 to 4.96413, saving model to next_words.h5\n",
            "457/457 [==============================] - 147s 321ms/step - loss: 4.9641\n",
            "Epoch 9/30\n",
            "457/457 [==============================] - ETA: 0s - loss: 4.7509\n",
            "Epoch 9: loss improved from 4.96413 to 4.75095, saving model to next_words.h5\n",
            "457/457 [==============================] - 146s 319ms/step - loss: 4.7509\n",
            "Epoch 10/30\n",
            "457/457 [==============================] - ETA: 0s - loss: 4.5241\n",
            "Epoch 10: loss improved from 4.75095 to 4.52414, saving model to next_words.h5\n",
            "457/457 [==============================] - 142s 312ms/step - loss: 4.5241\n",
            "Epoch 11/30\n",
            "457/457 [==============================] - ETA: 0s - loss: 4.2934\n",
            "Epoch 11: loss improved from 4.52414 to 4.29342, saving model to next_words.h5\n",
            "457/457 [==============================] - 146s 321ms/step - loss: 4.2934\n",
            "Epoch 12/30\n",
            "457/457 [==============================] - ETA: 0s - loss: 4.0473\n",
            "Epoch 12: loss improved from 4.29342 to 4.04732, saving model to next_words.h5\n",
            "457/457 [==============================] - 152s 332ms/step - loss: 4.0473\n",
            "Epoch 13/30\n",
            "457/457 [==============================] - ETA: 0s - loss: 3.7945\n",
            "Epoch 13: loss improved from 4.04732 to 3.79446, saving model to next_words.h5\n",
            "457/457 [==============================] - 152s 332ms/step - loss: 3.7945\n",
            "Epoch 14/30\n",
            "457/457 [==============================] - ETA: 0s - loss: 3.5328\n",
            "Epoch 14: loss improved from 3.79446 to 3.53277, saving model to next_words.h5\n",
            "457/457 [==============================] - 150s 327ms/step - loss: 3.5328\n",
            "Epoch 15/30\n",
            "457/457 [==============================] - ETA: 0s - loss: 3.2757\n",
            "Epoch 15: loss improved from 3.53277 to 3.27572, saving model to next_words.h5\n",
            "457/457 [==============================] - 149s 325ms/step - loss: 3.2757\n",
            "Epoch 16/30\n",
            "457/457 [==============================] - ETA: 0s - loss: 3.0240\n",
            "Epoch 16: loss improved from 3.27572 to 3.02403, saving model to next_words.h5\n",
            "457/457 [==============================] - 151s 331ms/step - loss: 3.0240\n",
            "Epoch 17/30\n",
            "457/457 [==============================] - ETA: 0s - loss: 2.7833\n",
            "Epoch 17: loss improved from 3.02403 to 2.78332, saving model to next_words.h5\n",
            "457/457 [==============================] - 150s 328ms/step - loss: 2.7833\n",
            "Epoch 18/30\n",
            "457/457 [==============================] - ETA: 0s - loss: 2.5515\n",
            "Epoch 18: loss improved from 2.78332 to 2.55152, saving model to next_words.h5\n",
            "457/457 [==============================] - 150s 328ms/step - loss: 2.5515\n",
            "Epoch 19/30\n",
            "457/457 [==============================] - ETA: 0s - loss: 2.3229\n",
            "Epoch 19: loss improved from 2.55152 to 2.32294, saving model to next_words.h5\n",
            "457/457 [==============================] - 151s 330ms/step - loss: 2.3229\n",
            "Epoch 20/30\n",
            "457/457 [==============================] - ETA: 0s - loss: 2.1143\n",
            "Epoch 20: loss improved from 2.32294 to 2.11431, saving model to next_words.h5\n",
            "457/457 [==============================] - 149s 327ms/step - loss: 2.1143\n",
            "Epoch 21/30\n",
            "457/457 [==============================] - ETA: 0s - loss: 1.9057\n",
            "Epoch 21: loss improved from 2.11431 to 1.90574, saving model to next_words.h5\n",
            "457/457 [==============================] - 157s 344ms/step - loss: 1.9057\n",
            "Epoch 22/30\n",
            "457/457 [==============================] - ETA: 0s - loss: 1.7161\n",
            "Epoch 22: loss improved from 1.90574 to 1.71607, saving model to next_words.h5\n",
            "457/457 [==============================] - 150s 328ms/step - loss: 1.7161\n",
            "Epoch 23/30\n",
            "457/457 [==============================] - ETA: 0s - loss: 1.5207\n",
            "Epoch 23: loss improved from 1.71607 to 1.52072, saving model to next_words.h5\n",
            "457/457 [==============================] - 150s 329ms/step - loss: 1.5207\n",
            "Epoch 24/30\n",
            "457/457 [==============================] - ETA: 0s - loss: 1.3414\n",
            "Epoch 24: loss improved from 1.52072 to 1.34140, saving model to next_words.h5\n",
            "457/457 [==============================] - 149s 326ms/step - loss: 1.3414\n",
            "Epoch 25/30\n",
            "457/457 [==============================] - ETA: 0s - loss: 1.1740\n",
            "Epoch 25: loss improved from 1.34140 to 1.17401, saving model to next_words.h5\n",
            "457/457 [==============================] - 156s 341ms/step - loss: 1.1740\n",
            "Epoch 26/30\n",
            "457/457 [==============================] - ETA: 0s - loss: 1.0231\n",
            "Epoch 26: loss improved from 1.17401 to 1.02309, saving model to next_words.h5\n",
            "457/457 [==============================] - 150s 328ms/step - loss: 1.0231\n",
            "Epoch 27/30\n",
            "457/457 [==============================] - ETA: 0s - loss: 0.8844\n",
            "Epoch 27: loss improved from 1.02309 to 0.88443, saving model to next_words.h5\n",
            "457/457 [==============================] - 149s 327ms/step - loss: 0.8844\n",
            "Epoch 28/30\n",
            "457/457 [==============================] - ETA: 0s - loss: 0.7604\n",
            "Epoch 28: loss improved from 0.88443 to 0.76040, saving model to next_words.h5\n",
            "457/457 [==============================] - 150s 329ms/step - loss: 0.7604\n",
            "Epoch 29/30\n",
            "457/457 [==============================] - ETA: 0s - loss: 0.6498\n",
            "Epoch 29: loss improved from 0.76040 to 0.64982, saving model to next_words.h5\n",
            "457/457 [==============================] - 155s 339ms/step - loss: 0.6498\n",
            "Epoch 30/30\n",
            "457/457 [==============================] - ETA: 0s - loss: 0.5529\n",
            "Epoch 30: loss improved from 0.64982 to 0.55292, saving model to next_words.h5\n",
            "457/457 [==============================] - 152s 333ms/step - loss: 0.5529\n"
          ]
        },
        {
          "output_type": "execute_result",
          "data": {
            "text/plain": [
              "<keras.src.callbacks.History at 0x78d34a882680>"
            ]
          },
          "metadata": {},
          "execution_count": 15
        }
      ]
    },
    {
      "cell_type": "markdown",
      "source": [
        "1.    **The load_model() function loads the model from the next_words.h5 file. The pickle.load() function loads the tokenizer from the token.pkl file.**\n",
        "2.    **The tokenizer.texts_to_sequences() function converts a list of text sequences to a list of integer sequences. Each integer sequence represents a word in the text sequence. The np.array() function converts the list of integer sequences to a NumPy array.**\n",
        "3.    **Predicting the next word in the sequence using the model. The model.predict() function predicts the probability distribution over all possible next words. **\n",
        "4.    **The np.argmax() function returns the index of the word with the highest probability.**\n",
        "5.    **Iterating over the tokenizer's word index and find the word that corresponds to the predicted integer.**"
      ],
      "metadata": {
        "id": "HYhj-U4MmMW9"
      }
    },
    {
      "cell_type": "code",
      "source": [
        "from tensorflow.keras.models import load_model\n",
        "\n",
        "\n",
        "#load the model and tokenizer\n",
        "model = load_model('next_words.h5')\n",
        "tokenizer = pickle.load(open('token.pkl','rb'))\n",
        "\n",
        "def Predict_Next_Words(model,tokenizer,text):\n",
        "  sequence = tokenizer.texts_to_sequences([text])\n",
        "  sequence = np.array(sequence)\n",
        "  preds = np.argmax(model.predict(sequence))\n",
        "  predict_word = \"\"\n",
        "\n",
        "  for key,value in tokenizer.word_index.items():\n",
        "    if value == preds:\n",
        "      predicted_word = key\n",
        "      break\n",
        "\n",
        "  print(predicted_word)\n",
        "  return predicted_word"
      ],
      "metadata": {
        "id": "Z5HK2Hb8Eg8l"
      },
      "execution_count": 20,
      "outputs": []
    },
    {
      "cell_type": "markdown",
      "source": [
        "1.    **The text.split(\" \") line splits the user input into a list of words. The text[-3:] line takes the last three words in the list of words. This is because the trained model was trained on sequences of three words.**\n",
        "\n",
        "2.    **The Predict_Next_Words() function is then called to predict the next word in the sequence. The Predict_Next_Words() function takes three arguments: the trained model, the tokenizer, and the sequence of three words. The function returns the predicted next word.**\n",
        "\n",
        "3.    **The predicted next word is then printed to the console.**"
      ],
      "metadata": {
        "id": "mfzr1-hSn85i"
      }
    },
    {
      "cell_type": "code",
      "source": [
        "while (True):\n",
        "  text = input(\"Enter your line: \")\n",
        "\n",
        "  if text==\"0\":\n",
        "    print(\"Execution Terminated...\")\n",
        "    break\n",
        "  else:\n",
        "    try:\n",
        "      text = text.split(\" \")\n",
        "      text = text[-3:]\n",
        "      print(text)\n",
        "      Predict_Next_Words(model,tokenizer,text)\n",
        "    except Exception as e:\n",
        "      print(\"Error Occured: \",e)\n",
        "      continue"
      ],
      "metadata": {
        "colab": {
          "base_uri": "https://localhost:8080/"
        },
        "id": "ON20NhDmYeFp",
        "outputId": "a1fc09d7-3da8-43c3-b371-99a3093a8426"
      },
      "execution_count": 30,
      "outputs": [
        {
          "output_type": "stream",
          "name": "stdout",
          "text": [
            "Enter your line: The Project Gutenberg \n",
            "['Project', 'Gutenberg', '']\n",
            "1/1 [==============================] - 0s 24ms/step\n",
            "ebook\n",
            "Enter your line: Scene IV. A Street. Scene V. A Hall in Capulet’s\n",
            "['Hall', 'in', 'Capulet’s']\n",
            "1/1 [==============================] - 0s 22ms/step\n",
            "house\n",
            "Enter your line: You may copy it, give it away or re-use it under the terms of the Project \n",
            "['the', 'Project', '']\n",
            "1/1 [==============================] - 0s 26ms/step\n",
            "gutenberg\n",
            "Enter your line: 0\n",
            "Execution Terminated...\n"
          ]
        }
      ]
    }
  ]
}