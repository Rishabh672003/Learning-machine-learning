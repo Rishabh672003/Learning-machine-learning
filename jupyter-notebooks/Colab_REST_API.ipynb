{
  "nbformat": 4,
  "nbformat_minor": 0,
  "metadata": {
    "colab": {
      "provenance": [],
      "authorship_tag": "ABX9TyNyUeZyqc+PZL+KronoUs4m",
      "include_colab_link": true
    },
    "kernelspec": {
      "name": "python3",
      "display_name": "Python 3"
    },
    "language_info": {
      "name": "python"
    }
  },
  "cells": [
    {
      "cell_type": "markdown",
      "metadata": {
        "id": "view-in-github",
        "colab_type": "text"
      },
      "source": [
        "<a href=\"https://colab.research.google.com/github/Rishabh672003/Learning-machine-learning/blob/main/jupyter-notebooks/Colab_REST_API.ipynb\" target=\"_parent\"><img src=\"https://colab.research.google.com/assets/colab-badge.svg\" alt=\"Open In Colab\"/></a>"
      ]
    },
    {
      "cell_type": "markdown",
      "source": [
        "# Use Colab as a Rest API"
      ],
      "metadata": {
        "id": "t47Unjh8-KRr"
      }
    },
    {
      "cell_type": "code",
      "source": [
        "!pip install pyngrok flask -q"
      ],
      "metadata": {
        "id": "RXnmlPi_8zki"
      },
      "execution_count": 6,
      "outputs": []
    },
    {
      "cell_type": "code",
      "source": [
        "import pyngrok\n",
        "from pyngrok import ngrok\n",
        "from flask import Flask, request, jsonify\n",
        "import pickle"
      ],
      "metadata": {
        "id": "T7H5rNnT-JnC"
      },
      "execution_count": null,
      "outputs": []
    },
    {
      "cell_type": "code",
      "execution_count": null,
      "metadata": {
        "id": "3CCtzPMy8LNU"
      },
      "outputs": [],
      "source": [
        "app = Flask(__name__)\n",
        "\n",
        "@app.route('/predict', methods=['GET'])\n",
        "def predict():\n",
        "\n",
        "    return jsonify({'prediction': \"sas\"})"
      ]
    },
    {
      "cell_type": "code",
      "source": [
        "from pyngrok import ngrok\n",
        "ngrok.set_auth_token(\"2cSje11lPZyvj7YzFoSvXI5aaPg_7d6EBq1L9MDKk8H3gr9ta\")\n",
        "\n",
        "# Start the ngrok tunnel\n",
        "port = 8000\n",
        "tunnel = ngrok.connect(port)\n",
        "print(f\"Public URL: {tunnel.public_url}\")"
      ],
      "metadata": {
        "id": "2gYoWU63-UvX"
      },
      "execution_count": null,
      "outputs": []
    },
    {
      "cell_type": "code",
      "source": [
        "# Run the Flask application\n",
        "if __name__ == \"__main__\":\n",
        "  app.run(host=\"0.0.0.0\", port=port)"
      ],
      "metadata": {
        "id": "g8VajCKG-bDS"
      },
      "execution_count": null,
      "outputs": []
    }
  ]
}