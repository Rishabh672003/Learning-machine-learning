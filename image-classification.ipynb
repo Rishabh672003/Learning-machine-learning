{
  "nbformat": 4,
  "nbformat_minor": 0,
  "metadata": {
    "colab": {
      "provenance": [],
      "authorship_tag": "ABX9TyNFWdgzGKwaEwVLUkOFgoi0"
    },
    "kernelspec": {
      "name": "python3",
      "display_name": "Python 3"
    },
    "language_info": {
      "name": "python"
    }
  },
  "cells": [
    {
      "cell_type": "code",
      "execution_count": 1,
      "metadata": {
        "id": "76HUEj2-NVyH"
      },
      "outputs": [],
      "source": [
        "import tensorflow as tf"
      ]
    },
    {
      "cell_type": "code",
      "source": [
        "mnist = tf.keras.datasets.mnist\n",
        "(X_train, X_test), (y_train, y_test)=mnist.load_data()\n",
        "X_train.shape"
      ],
      "metadata": {
        "id": "3uc62mW6XPaE",
        "outputId": "a874f007-0beb-4a4f-d07b-1cfaecce961d",
        "colab": {
          "base_uri": "https://localhost:8080/"
        }
      },
      "execution_count": 7,
      "outputs": [
        {
          "output_type": "execute_result",
          "data": {
            "text/plain": [
              "(60000, 28, 28)"
            ]
          },
          "metadata": {},
          "execution_count": 7
        }
      ]
    },
    {
      "cell_type": "code",
      "source": [
        "model = tf.keras.models.Sequential([\n",
        "    tf.keras.layers.flatten\n",
        "])"
      ],
      "metadata": {
        "id": "AFq-xTJXZeOn"
      },
      "execution_count": null,
      "outputs": []
    }
  ]
}